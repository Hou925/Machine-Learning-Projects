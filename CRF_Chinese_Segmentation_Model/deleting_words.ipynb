{
 "cells": [
  {
   "cell_type": "markdown",
   "metadata": {},
   "source": [
    "删减语料库，加快模型训练"
   ]
  },
  {
   "cell_type": "code",
   "execution_count": 1,
   "metadata": {},
   "outputs": [
    {
     "name": "stdout",
     "output_type": "stream",
     "text": [
      "保留了 468489 行，写入到 shortened_corpus.txt\n"
     ]
    }
   ],
   "source": [
    "def keep_one_tenth(input_file, output_file):\n",
    "    # 读取所有行\n",
    "    with open(input_file, 'r', encoding='utf-8') as f:\n",
    "        lines = f.readlines()\n",
    "    \n",
    "    # 计算需要保留的行数（至少保留一行）\n",
    "    keep_count = max(1, len(lines) // 4)\n",
    "    \n",
    "    # 取前 1/4 的行\n",
    "    kept_lines = lines[:keep_count]\n",
    "    \n",
    "    # 写入到新文件\n",
    "    with open(output_file, 'w', encoding='utf-8') as f:\n",
    "        f.writelines(kept_lines)\n",
    "\n",
    "    print(f\"保留了 {keep_count} 行，写入到 {output_file}\")\n",
    "\n",
    "input_path = 'BMES_corpus.txt'\n",
    "output_path = 'shortened_corpus.txt'  # 输出保留1/4内容的新文件路径\n",
    "keep_one_tenth(input_path, output_path)"
   ]
  }
 ],
 "metadata": {
  "kernelspec": {
   "display_name": "hoshino",
   "language": "python",
   "name": "python3"
  },
  "language_info": {
   "codemirror_mode": {
    "name": "ipython",
    "version": 3
   },
   "file_extension": ".py",
   "mimetype": "text/x-python",
   "name": "python",
   "nbconvert_exporter": "python",
   "pygments_lexer": "ipython3",
   "version": "3.12.2"
  }
 },
 "nbformat": 4,
 "nbformat_minor": 2
}
