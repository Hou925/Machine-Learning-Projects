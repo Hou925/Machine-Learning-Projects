{
 "cells": [
  {
   "cell_type": "markdown",
   "metadata": {},
   "source": [
    "将词性标注语料库更改为适合crf算法的BMES标注形式"
   ]
  },
  {
   "cell_type": "code",
   "execution_count": 5,
   "metadata": {},
   "outputs": [],
   "source": [
    "def convert_to_bmes(src_path, dest_path):\n",
    "    with open(src_path, 'r', encoding='gbk') as source, open(dest_path, 'w', encoding='utf-8') as target:\n",
    "        for line in source:\n",
    "            tokens = line.strip().split()\n",
    "            for token in tokens[1:]: \n",
    "                if \"/\" not in token:\n",
    "                    continue\n",
    "                word, _ = token.split(\"/\", 1)\n",
    "                length = len(word)\n",
    "\n",
    "                if length == 1:\n",
    "                    tag_seq = ['S']\n",
    "                else:\n",
    "                    tag_seq = ['B'] + ['M'] * (length - 2) + ['E']\n",
    "\n",
    "                for ch, tag in zip(word, tag_seq):\n",
    "                    target.write(f\"{ch}\\t{tag}\\n\")\n",
    "            target.write(\"\\n\")"
   ]
  },
  {
   "cell_type": "code",
   "execution_count": 6,
   "metadata": {},
   "outputs": [
    {
     "name": "stdout",
     "output_type": "stream",
     "text": [
      "语料处理完成：BMES_corpus.txt\n"
     ]
    }
   ],
   "source": [
    "convert_to_bmes(\"人民日报语料库.txt\", \"BMES_corpus.txt\")\n",
    "print(\"语料处理完成：BMES_corpus.txt\")"
   ]
  }
 ],
 "metadata": {
  "kernelspec": {
   "display_name": "hoshino",
   "language": "python",
   "name": "python3"
  },
  "language_info": {
   "codemirror_mode": {
    "name": "ipython",
    "version": 3
   },
   "file_extension": ".py",
   "mimetype": "text/x-python",
   "name": "python",
   "nbconvert_exporter": "python",
   "pygments_lexer": "ipython3",
   "version": "3.12.2"
  }
 },
 "nbformat": 4,
 "nbformat_minor": 2
}
